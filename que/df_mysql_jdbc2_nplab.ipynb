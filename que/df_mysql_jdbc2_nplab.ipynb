{
 "cells": [
  {
   "cell_type": "code",
   "execution_count": null,
   "metadata": {},
   "outputs": [],
   "source": [
    "import os\n",
    "os.environ['PYSPARK_SUBMIT_ARGS'] = '--driver-class-path \\\n",
    "/opt/cloudera/parcels/CDH-6.2.1-1.cdh6.2.1.p0.1425774/lib/sqoop/lib/mysql-connector-java-5.1.7/mysql-connector-java-5.1.7-bin.jar \\\n",
    "--jars \\\n",
    "/opt/cloudera/parcels/CDH-6.2.1-1.cdh6.2.1.p0.1425774/lib/sqoop/lib/mysql-connector-java-5.1.7/mysql-connector-java-5.1.7-bin.jar \\\n",
    "pyspark-shell'"
   ]
  },
  {
   "cell_type": "raw",
   "metadata": {},
   "source": [
    "Note: Argument --driver-class-path is given above while starting the pyspark shell in addition to the argument --jars."
   ]
  },
  {
   "cell_type": "code",
   "execution_count": null,
   "metadata": {},
   "outputs": [],
   "source": [
    "from pyspark.sql import SparkSession\n",
    "spark = SparkSession.builder.appName(\"PySpark MySQL JDBC example\").getOrCreate()"
   ]
  },
  {
   "cell_type": "raw",
   "metadata": {},
   "source": [
    "Following is the syntax to give each option separately.\n",
    "Note that driver need not given as one of the options because\n",
    "pyspark shell is started with the argument --driver-class-path."
   ]
  },
  {
   "cell_type": "code",
   "execution_count": null,
   "metadata": {},
   "outputs": [],
   "source": [
    "df_mysql = spark.read.format(\"jdbc\").\\\n",
    "option(\"url\", \"jdbc:mysql://ip-10-1-1-204.ap-south-1.compute.internal/jigsawdb\").\\\n",
    "option(\"dbtable\", \"cctab\").\\\n",
    "option(\"user\", \"jigsawuser\").option(\"password\",\"jigsaw321$\").\\\n",
    "load()"
   ]
  },
  {
   "cell_type": "raw",
   "metadata": {},
   "source": [
    "Below is the alternate syntax for the same.\n",
    "Instead of .option the parameters are given as a dictionary as key-value pairs."
   ]
  },
  {
   "cell_type": "code",
   "execution_count": null,
   "metadata": {},
   "outputs": [],
   "source": [
    "df_mysql = spark.read.jdbc(\"jdbc:mysql://ip-10-1-1-204.ap-south-1.compute.internal/\", \"jigsawdb.cctab\", \\\n",
    "                           properties={\"user\": \"jigsawuser\", \"password\": \"jigsaw321$\"})"
   ]
  },
  {
   "cell_type": "code",
   "execution_count": null,
   "metadata": {},
   "outputs": [],
   "source": [
    "df_mysql.count()"
   ]
  },
  {
   "cell_type": "code",
   "execution_count": null,
   "metadata": {},
   "outputs": [],
   "source": [
    "df_mysql.show()"
   ]
  }
 ],
 "metadata": {
  "kernelspec": {
   "display_name": "Python 3",
   "language": "python",
   "name": "python3"
  },
  "language_info": {
   "codemirror_mode": {
    "name": "ipython",
    "version": 3
   },
   "file_extension": ".py",
   "mimetype": "text/x-python",
   "name": "python",
   "nbconvert_exporter": "python",
   "pygments_lexer": "ipython3",
   "version": "3.7.6"
  }
 },
 "nbformat": 4,
 "nbformat_minor": 2
}
