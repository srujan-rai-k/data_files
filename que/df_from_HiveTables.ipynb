{
 "cells": [
  {
   "cell_type": "markdown",
   "metadata": {},
   "source": [
    "Import and initiate findspark\n",
    "Then import pyspark"
   ]
  },
  {
   "cell_type": "code",
   "execution_count": 1,
   "metadata": {},
   "outputs": [],
   "source": [
    "import findspark\n",
    "findspark.init()\n",
    "import pyspark"
   ]
  },
  {
   "cell_type": "markdown",
   "metadata": {},
   "source": [
    "Instatiate SparkSession with Hive support"
   ]
  },
  {
   "cell_type": "code",
   "execution_count": 2,
   "metadata": {},
   "outputs": [],
   "source": [
    "from pyspark.sql import SparkSession\n",
    "spark = SparkSession.builder.appName(\"Python Spark SQL example\") \\\n",
    "        .config(\"spark.sql.warehouse.dir\", \"hdfs://localhost:9000/user/hive/warehouse\") \\\n",
    "        .enableHiveSupport() \\\n",
    "        .getOrCreate()"
   ]
  },
  {
   "cell_type": "code",
   "execution_count": 3,
   "metadata": {},
   "outputs": [
    {
     "name": "stdout",
     "output_type": "stream",
     "text": [
      "+-----------+----------------+-------------+--------------+----------------+\n",
      "|customer_id|   customer_name|customer_city|customer_state|customer_zipcode|\n",
      "+-----------+----------------+-------------+--------------+----------------+\n",
      "|      11039|     Mary Torres|       Caguas|            PR|             725|\n",
      "|       5623|      Jose Haley|     Columbus|            OH|           43207|\n",
      "|       5829|      Mary Smith|      Houston|            TX|           77015|\n",
      "|       6336|  Richard Maddox|       Caguas|            PR|             725|\n",
      "|       1708|  Margaret Booth|    Arlington|            TX|           76010|\n",
      "|      10227|  Mary Henderson|       Caguas|            PR|             725|\n",
      "|        839|     Lisa Walker|       Caguas|            PR|             725|\n",
      "|       7604|   Jonathan Hill|      Phoenix|            AZ|           85040|\n",
      "|       6485|Carolyn Sheppard|Pompano Beach|            FL|           33063|\n",
      "|       4737|    Mary Mendoza|       Caguas|            PR|             725|\n",
      "|       5973|   Michael Smith|       Caguas|            PR|             725|\n",
      "|       9205|    James Holmes|     Hilliard|            OH|           43026|\n",
      "|        138|     Mary Dawson|       Caguas|            PR|             725|\n",
      "|        371|    Adam Marquez|  San Antonio|            TX|           78223|\n",
      "|       9285|    Gloria Smith|       Caguas|            PR|             725|\n",
      "|       1209|       Mary Webb|   San Marcos|            TX|           78666|\n",
      "|       3021|  Nancy Alvarado|     Flushing|            NY|           11354|\n",
      "|       3354|  Russell Flores|       Caguas|            PR|             725|\n",
      "|      11684|    Denise Smith|    Rego Park|            NY|           11374|\n",
      "|      11144|  Jose Dickerson|         Mesa|            AZ|           85201|\n",
      "+-----------+----------------+-------------+--------------+----------------+\n",
      "only showing top 20 rows\n",
      "\n"
     ]
    }
   ],
   "source": [
    "spark.sql(\"SELECT * FROM customers\").show()"
   ]
  },
  {
   "cell_type": "code",
   "execution_count": 4,
   "metadata": {},
   "outputs": [
    {
     "name": "stdout",
     "output_type": "stream",
     "text": [
      "+-----------+--------------------+------------------+-----------+-------------+----------------+-----------+\n",
      "|salestxn_id|        product_name|  product_category|category_id|product_price|product_quantity|customer_id|\n",
      "+-----------+--------------------+------------------+-----------+-------------+----------------+-----------+\n",
      "|      98660|O'Brien Men's Neo...|           Fishing|         45|        49.98|               2|      12080|\n",
      "|      97749|O'Brien Men's Neo...|           Fishing|         45|        49.98|               2|      12279|\n",
      "|     103889|Under Armour Wome...|      Boxing & MMA|         12|        31.99|               4|       3343|\n",
      "|      22751|O'Brien Men's Neo...|           Fishing|         45|        49.98|               5|      12382|\n",
      "|     129001|Pelican Sunstream...|           Boating|         47|       199.99|               1|       5032|\n",
      "|     165110|Nike Men's CJ Eli...|            Cleats|         17|       129.99|               1|       2663|\n",
      "|     140220|Diamondback Women...| Bike & Skate Shop|         42|       299.98|               1|        702|\n",
      "|      77426|Field & Stream Sp...|Hunting & Shooting|         44|       399.98|               1|       3959|\n",
      "|     101870|Perfect Fitness P...|   As Seen on  TV!|         16|        59.99|               4|       1836|\n",
      "|     131685|Nike Men's CJ Eli...|            Cleats|         17|       129.99|               1|       5212|\n",
      "|     164177|Pelican Sunstream...|           Boating|         47|       199.99|               1|       4037|\n",
      "|      78983|Nike Men's CJ Eli...|            Cleats|         17|       129.99|               1|       7528|\n",
      "|      84894|Diamondback Women...| Bike & Skate Shop|         42|       299.98|               1|       5658|\n",
      "|     170683|Nike Men's CJ Eli...|            Cleats|         17|       129.99|               1|       6888|\n",
      "|      22083|Nike Men's Dri-FI...|     Men's Apparel|         23|         50.0|               3|       7946|\n",
      "|      76014|O'Brien Men's Neo...|           Fishing|         45|        49.98|               1|      10667|\n",
      "|      79165|O'Brien Men's Neo...|           Fishing|         45|        49.98|               5|       9976|\n",
      "|      44574|Nike Men's Dri-FI...|     Men's Apparel|         23|         50.0|               1|       4798|\n",
      "|     102807|Diamondback Women...| Bike & Skate Shop|         42|       299.98|               1|       9356|\n",
      "|     125420|Under Armour Girl...|        Top Brands|         28|        39.99|               1|       8284|\n",
      "+-----------+--------------------+------------------+-----------+-------------+----------------+-----------+\n",
      "only showing top 20 rows\n",
      "\n"
     ]
    }
   ],
   "source": [
    "spark.sql(\"SELECT * FROM products\").show()"
   ]
  },
  {
   "cell_type": "code",
   "execution_count": 5,
   "metadata": {},
   "outputs": [],
   "source": [
    "cStateCount50 = spark.sql(\"SELECT customer_state, count(*) as state_count FROM customers GROUP BY customer_state HAVING state_count>=50\")"
   ]
  },
  {
   "cell_type": "markdown",
   "metadata": {},
   "source": [
    "Output of a Hive query will be a DataFrame "
   ]
  },
  {
   "cell_type": "code",
   "execution_count": 6,
   "metadata": {},
   "outputs": [
    {
     "data": {
      "text/plain": [
       "pyspark.sql.dataframe.DataFrame"
      ]
     },
     "execution_count": 6,
     "metadata": {},
     "output_type": "execute_result"
    }
   ],
   "source": [
    "type(cStateCount50)"
   ]
  },
  {
   "cell_type": "code",
   "execution_count": 7,
   "metadata": {},
   "outputs": [
    {
     "name": "stdout",
     "output_type": "stream",
     "text": [
      "root\n",
      " |-- customer_state: string (nullable = true)\n",
      " |-- state_count: long (nullable = false)\n",
      "\n"
     ]
    }
   ],
   "source": [
    "cStateCount50.printSchema()"
   ]
  },
  {
   "cell_type": "code",
   "execution_count": 8,
   "metadata": {},
   "outputs": [
    {
     "name": "stdout",
     "output_type": "stream",
     "text": [
      "+--------------+-----------+\n",
      "|customer_state|state_count|\n",
      "+--------------+-----------+\n",
      "|            CA|        187|\n",
      "|            NY|         79|\n",
      "|            TX|         62|\n",
      "|            PR|        505|\n",
      "+--------------+-----------+\n",
      "\n"
     ]
    }
   ],
   "source": [
    "cStateCount50.show()"
   ]
  },
  {
   "cell_type": "code",
   "execution_count": 9,
   "metadata": {},
   "outputs": [],
   "source": [
    "prd200 = spark.sql(\"SELECT category_id, product_category, count(*) as prdcount FROM products WHERE product_price>200 GROUP BY category_id, product_category ORDER BY product_category\")"
   ]
  },
  {
   "cell_type": "code",
   "execution_count": 10,
   "metadata": {},
   "outputs": [
    {
     "data": {
      "text/plain": [
       "pyspark.sql.dataframe.DataFrame"
      ]
     },
     "execution_count": 10,
     "metadata": {},
     "output_type": "execute_result"
    }
   ],
   "source": [
    "type(prd200)"
   ]
  },
  {
   "cell_type": "code",
   "execution_count": 11,
   "metadata": {},
   "outputs": [
    {
     "name": "stdout",
     "output_type": "stream",
     "text": [
      "+-----------+-------------------+--------+\n",
      "|category_id|   product_category|prdcount|\n",
      "+-----------+-------------------+--------+\n",
      "|         40|        Accessories|       7|\n",
      "|         16|    As Seen on  TV!|       6|\n",
      "|          3|Baseball & Softball|       4|\n",
      "|         42|  Bike & Skate Shop|    1377|\n",
      "|         47|            Boating|       6|\n",
      "|          9|   Cardio Equipment|       3|\n",
      "|         37|        Electronics|       9|\n",
      "|         34|  Golf Bags & Carts|      10|\n",
      "|         44| Hunting & Shooting|    1785|\n",
      "|         30|   Men's Golf Clubs|       5|\n",
      "|         10|  Strength Training|       2|\n",
      "|          6|   Tennis & Racquet|       3|\n",
      "+-----------+-------------------+--------+\n",
      "\n"
     ]
    }
   ],
   "source": [
    "prd200.show()"
   ]
  },
  {
   "cell_type": "code",
   "execution_count": 12,
   "metadata": {},
   "outputs": [
    {
     "name": "stdout",
     "output_type": "stream",
     "text": [
      "root\n",
      " |-- category_id: integer (nullable = true)\n",
      " |-- product_category: string (nullable = true)\n",
      " |-- prdcount: long (nullable = false)\n",
      "\n"
     ]
    }
   ],
   "source": [
    "prd200.printSchema()"
   ]
  },
  {
   "cell_type": "markdown",
   "metadata": {},
   "source": [
    "Write these dataframes into Hive tables after creating a new database"
   ]
  },
  {
   "cell_type": "code",
   "execution_count": null,
   "metadata": {},
   "outputs": [],
   "source": [
    "spark.sql(\"CREATE DATABASE IF NOT EXISTS retaildb\")"
   ]
  },
  {
   "cell_type": "code",
   "execution_count": null,
   "metadata": {},
   "outputs": [],
   "source": [
    "cStateCount50.coalesce(1).write.saveAsTable(\"retaildb.cStateCount50\")"
   ]
  },
  {
   "cell_type": "code",
   "execution_count": null,
   "metadata": {},
   "outputs": [],
   "source": [
    "prd200.coalesce(1).write.saveAsTable(\"retaildb.prd200\")"
   ]
  }
 ],
 "metadata": {
  "kernelspec": {
   "display_name": "Python 3",
   "language": "python",
   "name": "python3"
  },
  "language_info": {
   "codemirror_mode": {
    "name": "ipython",
    "version": 3
   },
   "file_extension": ".py",
   "mimetype": "text/x-python",
   "name": "python",
   "nbconvert_exporter": "python",
   "pygments_lexer": "ipython3",
   "version": "3.4.3"
  }
 },
 "nbformat": 4,
 "nbformat_minor": 2
}
